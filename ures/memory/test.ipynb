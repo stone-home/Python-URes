{
  "cells": [
    {
      "cell_type": "code",
      "execution_count": 1,
      "id": "initial_id",
      "metadata": {
        "ExecuteTime": {
          "end_time": "2025-08-22T14:21:55.544113Z",
          "start_time": "2025-08-22T14:21:55.528943Z"
        },
        "collapsed": true
      },
      "outputs": [],
      "source": "from ures.memory.blocks import BlockPool, MemoryBlock"
    },
    {
      "cell_type": "code",
      "execution_count": 6,
      "id": "34123c4b2996deb6",
      "metadata": {
        "ExecuteTime": {
          "end_time": "2025-08-22T15:00:24.910766Z",
          "start_time": "2025-08-22T15:00:24.905232Z"
        }
      },
      "outputs": [],
      "source": "mb = MemoryBlock(0x100, 200, device=0, stream=1)"
    },
    {
      "cell_type": "code",
      "execution_count": 7,
      "id": "a3dde1c0c24446e0",
      "metadata": {
        "ExecuteTime": {
          "end_time": "2025-08-22T15:00:29.389985Z",
          "start_time": "2025-08-22T15:00:29.386600Z"
        }
      },
      "outputs": [
        {
          "data": {
            "text/plain": [
              "-1"
            ]
          },
          "execution_count": 7,
          "metadata": {},
          "output_type": "execute_result"
        }
      ],
      "source": "mb.device"
    },
    {
      "cell_type": "code",
      "execution_count": null,
      "id": "64634924a45cb014",
      "metadata": {},
      "outputs": [],
      "source": ""
    }
  ],
  "metadata": {
    "kernelspec": {
      "display_name": "Python 3",
      "language": "python",
      "name": "python3"
    },
    "language_info": {
      "codemirror_mode": {
        "name": "ipython",
        "version": 2
      },
      "file_extension": ".py",
      "mimetype": "text/x-python",
      "name": "python",
      "nbconvert_exporter": "python",
      "pygments_lexer": "ipython2",
      "version": "2.7.6"
    }
  },
  "nbformat": 4,
  "nbformat_minor": 5
}
